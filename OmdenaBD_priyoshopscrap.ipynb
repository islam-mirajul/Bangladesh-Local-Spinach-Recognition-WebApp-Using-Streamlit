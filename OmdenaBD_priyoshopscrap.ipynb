{
  "nbformat": 4,
  "nbformat_minor": 0,
  "metadata": {
    "colab": {
      "name": "OmdenaBD-priyoshopscrap.ipynb",
      "provenance": [],
      "collapsed_sections": [],
      "mount_file_id": "1bXrBWDGtlEP0n-KscudliWZvac3LRHJ1",
      "authorship_tag": "ABX9TyNwWt2v1MPN4ZPtQh5DF5LW",
      "include_colab_link": true
    },
    "kernelspec": {
      "name": "python3",
      "display_name": "Python 3"
    },
    "language_info": {
      "name": "python"
    }
  },
  "cells": [
    {
      "cell_type": "markdown",
      "metadata": {
        "id": "view-in-github",
        "colab_type": "text"
      },
      "source": [
        "<a href=\"https://colab.research.google.com/github/islam-mirajul/Bangladesh-Local-Spinach-Recognition-WebApp-Using-Streamlit/blob/main/OmdenaBD_priyoshopscrap.ipynb\" target=\"_parent\"><img src=\"https://colab.research.google.com/assets/colab-badge.svg\" alt=\"Open In Colab\"/></a>"
      ]
    },
    {
      "cell_type": "code",
      "metadata": {
        "colab": {
          "base_uri": "https://localhost:8080/"
        },
        "id": "fMurL030mvwu",
        "outputId": "bd9f68d5-3e56-4792-ebaf-9e7b29f9ba78"
      },
      "source": [
        "!pip install autoscraper"
      ],
      "execution_count": null,
      "outputs": [
        {
          "output_type": "stream",
          "name": "stdout",
          "text": [
            "Collecting autoscraper\n",
            "  Downloading autoscraper-1.1.12-py3-none-any.whl (10 kB)\n",
            "Requirement already satisfied: bs4 in /usr/local/lib/python3.7/dist-packages (from autoscraper) (0.0.1)\n",
            "Requirement already satisfied: lxml in /usr/local/lib/python3.7/dist-packages (from autoscraper) (4.2.6)\n",
            "Requirement already satisfied: requests in /usr/local/lib/python3.7/dist-packages (from autoscraper) (2.23.0)\n",
            "Requirement already satisfied: beautifulsoup4 in /usr/local/lib/python3.7/dist-packages (from bs4->autoscraper) (4.6.3)\n",
            "Requirement already satisfied: urllib3!=1.25.0,!=1.25.1,<1.26,>=1.21.1 in /usr/local/lib/python3.7/dist-packages (from requests->autoscraper) (1.24.3)\n",
            "Requirement already satisfied: idna<3,>=2.5 in /usr/local/lib/python3.7/dist-packages (from requests->autoscraper) (2.10)\n",
            "Requirement already satisfied: chardet<4,>=3.0.2 in /usr/local/lib/python3.7/dist-packages (from requests->autoscraper) (3.0.4)\n",
            "Requirement already satisfied: certifi>=2017.4.17 in /usr/local/lib/python3.7/dist-packages (from requests->autoscraper) (2021.5.30)\n",
            "Installing collected packages: autoscraper\n",
            "Successfully installed autoscraper-1.1.12\n"
          ]
        }
      ]
    },
    {
      "cell_type": "code",
      "metadata": {
        "id": "YekLj0IavyMQ"
      },
      "source": [
        "from autoscraper import AutoScraper"
      ],
      "execution_count": null,
      "outputs": []
    },
    {
      "cell_type": "code",
      "metadata": {
        "id": "s_B7l_mYvz6o"
      },
      "source": [
        "priyo_url=\"https://priyoshop.com/grocery-items#/pageSize=30&viewMode=grid&orderBy=15\"\n",
        "\n",
        "wanted_list=[\"Organic Churi Shutki 250gm - CS002\",\"Tk 460\"]"
      ],
      "execution_count": null,
      "outputs": []
    },
    {
      "cell_type": "code",
      "metadata": {
        "colab": {
          "base_uri": "https://localhost:8080/"
        },
        "id": "izro5TlawRYo",
        "outputId": "5c4f7b4a-0a1c-48ad-c762-31f8f2c2c544"
      },
      "source": [
        "scraper=AutoScraper()\n",
        "result=scraper.build(priyo_url,wanted_list)\n",
        "print(result)"
      ],
      "execution_count": null,
      "outputs": [
        {
          "output_type": "stream",
          "name": "stdout",
          "text": [
            "['ACI Pure Premium Atta 1 kg', 'ACI Pure Premium Maida 1 kg', 'Organic Churi Shutki 250gm - CS002', 'Organic Churi Shutki 100gm - CS001', 'Roasted Cumin Powder 200gm - RCP002', 'Green Leaf Baking Powder 150gm', 'Green Leaf Soya Sauce 250ml', 'Green Leaf Ready Mix Panch Foran Masala 40gm', 'Green Leaf Bread Crumbs 200gm', 'Green Leaf Garam Masala 40gm', 'Green Leaf Roast Masala 40gm', 'Green Leaf Kabab Masala 40gm', 'Green Leaf Chat Masala 40gm', 'Green Leaf Barbecue Masala 40gm', 'Green Leaf Zarda Color 30gm', 'Green Leaf Paprika 25gm', 'Green Leaf Mixed Herbs 12gm', 'Green Leaf Basil 12gm', 'Green Leaf Oregano Leaf 12gm', 'Green Leaf Rosemary Leaf 12gm', 'Green Leaf White Pepper 30gm', 'Green Leaf Black Pepper 30gm', 'Green Leaf Cake Decoration 30gm', 'Green Leaf Tasting Salt 25gm', 'Green Leaf Rock Salt 100gm', 'Green Leaf Chocolate Food Color 28ml', 'Green Leaf Orange Food Color 28ml', 'Green Leaf Blue Food Color 28ml', 'Green Leaf Yellow Food Color 28ml', 'Green Leaf Green Food Color 28ml', 'Green Leaf Red Food Color 28ml', 'Green Leaf Biryani Culinary Essence 28ml', 'Green Leaf Ready Mix Roast Masala 40gm', 'Tk 40', 'Tk 48', 'Tk 460', 'Tk 190', 'Tk 210', 'Tk 60', 'Tk 55', 'Tk 50', 'Tk 110', 'Tk 80', 'Tk 70', 'Tk 85', 'Tk 75', 'Tk 25', 'Tk 45', 'Tk 100']\n"
          ]
        }
      ]
    },
    {
      "cell_type": "code",
      "metadata": {
        "colab": {
          "base_uri": "https://localhost:8080/"
        },
        "id": "AjJ6EBuswWl7",
        "outputId": "2cae7e09-cefc-45b2-87bb-b566e2d8c3fc"
      },
      "source": [
        "scraper.get_result_similar(priyo_url,grouped=True)"
      ],
      "execution_count": null,
      "outputs": [
        {
          "output_type": "execute_result",
          "data": {
            "text/plain": [
              "{'rule_4mai': ['ACI Pure Premium Atta 1 kg',\n",
              "  'ACI Pure Premium Maida 1 kg',\n",
              "  'Organic Churi Shutki 250gm - CS002',\n",
              "  'Organic Churi Shutki 100gm - CS001',\n",
              "  'Roasted Cumin Powder 200gm - RCP002',\n",
              "  'Green Leaf Baking Powder 150gm',\n",
              "  'Green Leaf Soya Sauce 250ml',\n",
              "  'Green Leaf Ready Mix Panch Foran Masala 40gm',\n",
              "  'Green Leaf Bread Crumbs 200gm',\n",
              "  'Green Leaf Garam Masala 40gm',\n",
              "  'Green Leaf Roast Masala 40gm',\n",
              "  'Green Leaf Kabab Masala 40gm',\n",
              "  'Green Leaf Chat Masala 40gm',\n",
              "  'Green Leaf Barbecue Masala 40gm',\n",
              "  'Green Leaf Zarda Color 30gm',\n",
              "  'Green Leaf Paprika 25gm',\n",
              "  'Green Leaf Mixed Herbs 12gm',\n",
              "  'Green Leaf Basil 12gm',\n",
              "  'Green Leaf Oregano Leaf 12gm',\n",
              "  'Green Leaf Rosemary Leaf 12gm',\n",
              "  'Green Leaf White Pepper 30gm',\n",
              "  'Green Leaf Black Pepper 30gm',\n",
              "  'Green Leaf Cake Decoration 30gm',\n",
              "  'Green Leaf Tasting Salt 25gm',\n",
              "  'Green Leaf Rock Salt 100gm',\n",
              "  'Green Leaf Chocolate Food Color 28ml',\n",
              "  'Green Leaf Orange Food Color 28ml',\n",
              "  'Green Leaf Blue Food Color 28ml',\n",
              "  'Green Leaf Yellow Food Color 28ml',\n",
              "  'Green Leaf Green Food Color 28ml',\n",
              "  'Green Leaf Red Food Color 28ml',\n",
              "  'Green Leaf Biryani Culinary Essence 28ml'],\n",
              " 'rule_5mvj': ['ACI Pure Premium Atta 1 kg',\n",
              "  'ACI Pure Premium Maida 1 kg',\n",
              "  'Organic Churi Shutki 250gm - CS002',\n",
              "  'Organic Churi Shutki 100gm - CS001',\n",
              "  'Roasted Cumin Powder 200gm - RCP002',\n",
              "  'Green Leaf Baking Powder 150gm',\n",
              "  'Green Leaf Soya Sauce 250ml',\n",
              "  'Green Leaf Ready Mix Panch Foran Masala 40gm',\n",
              "  'Green Leaf Bread Crumbs 200gm',\n",
              "  'Green Leaf Garam Masala 40gm',\n",
              "  'Green Leaf Ready Mix Roast Masala 40gm',\n",
              "  'Green Leaf Kabab Masala 40gm',\n",
              "  'Green Leaf Chat Masala 40gm',\n",
              "  'Green Leaf Barbecue Masala 40gm',\n",
              "  'Green Leaf Zarda Color 30gm',\n",
              "  'Green Leaf Paprika 25gm',\n",
              "  'Green Leaf Mixed Herbs 12gm',\n",
              "  'Green Leaf Basil 12gm',\n",
              "  'Green Leaf Oregano Leaf 12gm',\n",
              "  'Green Leaf Rosemary Leaf 12gm',\n",
              "  'Green Leaf White Pepper 30gm',\n",
              "  'Green Leaf Black Pepper 30gm',\n",
              "  'Green Leaf Cake Decoration 30gm',\n",
              "  'Green Leaf Tasting Salt 25gm',\n",
              "  'Green Leaf Rock Salt 100gm',\n",
              "  'Green Leaf Chocolate Food Color 28ml',\n",
              "  'Green Leaf Orange Food Color 28ml',\n",
              "  'Green Leaf Blue Food Color 28ml',\n",
              "  'Green Leaf Yellow Food Color 28ml',\n",
              "  'Green Leaf Green Food Color 28ml',\n",
              "  'Green Leaf Red Food Color 28ml',\n",
              "  'Green Leaf Biryani Culinary Essence 28ml'],\n",
              " 'rule_dfea': ['ACI Pure Premium Atta 1 kg',\n",
              "  'ACI Pure Premium Maida 1 kg',\n",
              "  'Organic Churi Shutki 250gm - CS002',\n",
              "  'Organic Churi Shutki 100gm - CS001',\n",
              "  'Roasted Cumin Powder 200gm - RCP002',\n",
              "  'Green Leaf Baking Powder 150gm',\n",
              "  'Green Leaf Soya Sauce 250ml',\n",
              "  'Green Leaf Ready Mix Panch Foran Masala 40gm',\n",
              "  'Green Leaf Bread Crumbs 200gm',\n",
              "  'Green Leaf Garam Masala 40gm',\n",
              "  'Green Leaf Ready Mix Roast Masala 40gm',\n",
              "  'Green Leaf Kabab Masala 40gm',\n",
              "  'Green Leaf Chat Masala 40gm',\n",
              "  'Green Leaf Barbecue Masala 40gm',\n",
              "  'Green Leaf Zarda Color 30gm',\n",
              "  'Green Leaf Paprika 25gm',\n",
              "  'Green Leaf Mixed Herbs 12gm',\n",
              "  'Green Leaf Basil 12gm',\n",
              "  'Green Leaf Oregano Leaf 12gm',\n",
              "  'Green Leaf Rosemary Leaf 12gm',\n",
              "  'Green Leaf White Pepper 30gm',\n",
              "  'Green Leaf Black Pepper 30gm',\n",
              "  'Green Leaf Cake Decoration 30gm',\n",
              "  'Green Leaf Tasting Salt 25gm',\n",
              "  'Green Leaf Rock Salt 100gm',\n",
              "  'Green Leaf Chocolate Food Color 28ml',\n",
              "  'Green Leaf Orange Food Color 28ml',\n",
              "  'Green Leaf Blue Food Color 28ml',\n",
              "  'Green Leaf Yellow Food Color 28ml',\n",
              "  'Green Leaf Green Food Color 28ml',\n",
              "  'Green Leaf Red Food Color 28ml',\n",
              "  'Green Leaf Biryani Culinary Essence 28ml'],\n",
              " 'rule_ektt': ['Tk 40',\n",
              "  'Tk 48',\n",
              "  'Tk 460',\n",
              "  'Tk 190',\n",
              "  'Tk 210',\n",
              "  'Tk 60',\n",
              "  'Tk 55',\n",
              "  'Tk 50',\n",
              "  'Tk 110',\n",
              "  'Tk 60',\n",
              "  'Tk 60',\n",
              "  'Tk 80',\n",
              "  'Tk 50',\n",
              "  'Tk 70',\n",
              "  'Tk 60',\n",
              "  'Tk 80',\n",
              "  'Tk 80',\n",
              "  'Tk 80',\n",
              "  'Tk 80',\n",
              "  'Tk 85',\n",
              "  'Tk 85',\n",
              "  'Tk 80',\n",
              "  'Tk 75',\n",
              "  'Tk 25',\n",
              "  'Tk 45',\n",
              "  'Tk 60',\n",
              "  'Tk 60',\n",
              "  'Tk 60',\n",
              "  'Tk 60',\n",
              "  'Tk 60',\n",
              "  'Tk 60',\n",
              "  'Tk 100']}"
            ]
          },
          "metadata": {},
          "execution_count": 74
        }
      ]
    },
    {
      "cell_type": "code",
      "metadata": {
        "id": "l6LpxXsDw2I4"
      },
      "source": [
        "scraper.set_rule_aliases({'rule_4mai':'Title','rule_ektt':'Price'})\n",
        "scraper.keep_rules(['rule_4mai','rule_ektt'])\n",
        "scraper.save('priyo-search')"
      ],
      "execution_count": null,
      "outputs": []
    },
    {
      "cell_type": "markdown",
      "metadata": {
        "id": "Uem2j3415XUL"
      },
      "source": [
        "Need to be change for every **page**"
      ]
    },
    {
      "cell_type": "code",
      "metadata": {
        "colab": {
          "base_uri": "https://localhost:8080/",
          "height": 979
        },
        "id": "81uKXjXmynRV",
        "outputId": "bcc0e751-73a6-48af-92ff-21caf562d22d"
      },
      "source": [
        "results=scraper.get_result_similar('https://priyoshop.com/equipment-supplies',group_by_alias=True)\n",
        "df = pd.DataFrame(results['Price'],results['Title'])\n",
        "df"
      ],
      "execution_count": null,
      "outputs": [
        {
          "output_type": "execute_result",
          "data": {
            "text/html": [
              "<div>\n",
              "<style scoped>\n",
              "    .dataframe tbody tr th:only-of-type {\n",
              "        vertical-align: middle;\n",
              "    }\n",
              "\n",
              "    .dataframe tbody tr th {\n",
              "        vertical-align: top;\n",
              "    }\n",
              "\n",
              "    .dataframe thead th {\n",
              "        text-align: right;\n",
              "    }\n",
              "</style>\n",
              "<table border=\"1\" class=\"dataframe\">\n",
              "  <thead>\n",
              "    <tr style=\"text-align: right;\">\n",
              "      <th></th>\n",
              "      <th>0</th>\n",
              "    </tr>\n",
              "  </thead>\n",
              "  <tbody>\n",
              "    <tr>\n",
              "      <th>Base Adaptor Round (Patch)</th>\n",
              "      <td>Tk 15</td>\n",
              "    </tr>\n",
              "    <tr>\n",
              "      <th>VGTEC Bakelite Batten Holder (Cute Series-03) - BBHCU3 27 12P (12 Pieces)</th>\n",
              "      <td>Tk 375</td>\n",
              "    </tr>\n",
              "    <tr>\n",
              "      <th>VGTEC Bakelite Batten Holder (Cute Series-03) - BBHCU3 27 6P (6 Pieces)</th>\n",
              "      <td>Tk 190</td>\n",
              "    </tr>\n",
              "    <tr>\n",
              "      <th>VGTEC Bakelite Batten Holder (Cosmos Series) - BBHCO 27 12P (12 Pieces)</th>\n",
              "      <td>Tk 320</td>\n",
              "    </tr>\n",
              "    <tr>\n",
              "      <th>VGTEC Bakelite Batten Holder (Cosmos Series) - BBHCO 27 6P (6 Pieces)</th>\n",
              "      <td>Tk 160</td>\n",
              "    </tr>\n",
              "    <tr>\n",
              "      <th>VGTEC Bakelite Batten Holder (Lily Series) - BBHLI 27 12P (12 Pieces)</th>\n",
              "      <td>Tk 375</td>\n",
              "    </tr>\n",
              "    <tr>\n",
              "      <th>VGTEC Bakelite Batten Holder (Lily Series) - BBHLI 27 6P (6 Pieces)</th>\n",
              "      <td>Tk 175</td>\n",
              "    </tr>\n",
              "    <tr>\n",
              "      <th>VGTEC Bakelite Batten Holder (Lotus Series) - BBHLO 27 12P (12 Pieces)</th>\n",
              "      <td>Tk 480\\nTk 475</td>\n",
              "    </tr>\n",
              "    <tr>\n",
              "      <th>VGTEC Bakelite Batten Holder (Lotus Series) - BBHLO 27 6P (6 Pieces)</th>\n",
              "      <td>Tk 240</td>\n",
              "    </tr>\n",
              "    <tr>\n",
              "      <th>VGTEC Bakelite Batten Holder (Honey Comb Series) - BBHHC 27 12 (12 Pieces)</th>\n",
              "      <td>Tk 475\\nTk 460</td>\n",
              "    </tr>\n",
              "    <tr>\n",
              "      <th>VGTEC Bakelite Batten Holder (Honey Comb Series) - BBHHC 27 6P (6 Pieces)</th>\n",
              "      <td>Tk 240\\nTk 230</td>\n",
              "    </tr>\n",
              "    <tr>\n",
              "      <th>Bulb Holder Converter Pach to Pin HC 27-22 6P</th>\n",
              "      <td>Tk 150</td>\n",
              "    </tr>\n",
              "    <tr>\n",
              "      <th>Bulb Holder Converter Pach to Pin HC 27-22</th>\n",
              "      <td>Tk 25</td>\n",
              "    </tr>\n",
              "    <tr>\n",
              "      <th>Bulb Holder Converter Pin to Pach HC 22-27 6P (6 Pieces)</th>\n",
              "      <td>Tk 180</td>\n",
              "    </tr>\n",
              "    <tr>\n",
              "      <th>Bulb Holder Converter Pin to Pach HC 22-27</th>\n",
              "      <td>Tk 30</td>\n",
              "    </tr>\n",
              "    <tr>\n",
              "      <th>VGTEC Bakelite Pendant Holder (Safety Series) - BPHSAB 22 6P (6 Pieces)</th>\n",
              "      <td>Tk 180</td>\n",
              "    </tr>\n",
              "    <tr>\n",
              "      <th>VGTEC Bakelite Pendant Holder (Safety Series) - BPHSAB 22</th>\n",
              "      <td>Tk 30</td>\n",
              "    </tr>\n",
              "    <tr>\n",
              "      <th>VGTEC Bakelite Pendant Holder (Mike Series) - BPHMI 22 6P (6 Pieces)</th>\n",
              "      <td>Tk 180</td>\n",
              "    </tr>\n",
              "    <tr>\n",
              "      <th>VGTEC Bakelite Pendant Holder (Mike Series) - BPHMI 22</th>\n",
              "      <td>Tk 30</td>\n",
              "    </tr>\n",
              "    <tr>\n",
              "      <th>VGTEC Bakelite Ceiling Rose (Cute Series) - BCRCU 12P (12 Pieces)</th>\n",
              "      <td>Tk 215</td>\n",
              "    </tr>\n",
              "    <tr>\n",
              "      <th>VGTEC Bakelite Ceiling Rose (Cute Series) - BCRCU 6P (6 Pieces)</th>\n",
              "      <td>Tk 110</td>\n",
              "    </tr>\n",
              "    <tr>\n",
              "      <th>VGTEC Bakelite Ceiling Rose (Prime Series) - BCRPR 12P</th>\n",
              "      <td>Tk 375</td>\n",
              "    </tr>\n",
              "    <tr>\n",
              "      <th>VGTEC Bakelite Ceiling Rose (Prime Series) - BCRPR 6P</th>\n",
              "      <td>Tk 190</td>\n",
              "    </tr>\n",
              "    <tr>\n",
              "      <th>VGTEC Bakelite Ceiling Rose (Cosmos Series) - BCRCO 12P (12 Pieces)</th>\n",
              "      <td>Tk 320</td>\n",
              "    </tr>\n",
              "    <tr>\n",
              "      <th>VGTEC Bakelite Ceiling Rose (Cosmos Series) - BCRCO 6P (6 Pieces)</th>\n",
              "      <td>Tk 160</td>\n",
              "    </tr>\n",
              "    <tr>\n",
              "      <th>VGTEC Bakelite Ceiling Rose (Lily Series) - BCRLI 12P (12 Pieces)</th>\n",
              "      <td>Tk 390</td>\n",
              "    </tr>\n",
              "    <tr>\n",
              "      <th>VGTEC Bakelite Ceiling Rose (Lily Series) - BCRLI 6P (6 Pieces)</th>\n",
              "      <td>Tk 195</td>\n",
              "    </tr>\n",
              "    <tr>\n",
              "      <th>VGTEC Bakelite Ceiling Rose (Lotus Series) - BCRLO 12P (12 Pieces)</th>\n",
              "      <td>Tk 490</td>\n",
              "    </tr>\n",
              "    <tr>\n",
              "      <th>VGTEC Bakelite Ceiling Rose (Lotus Series) - BCRLO 6P (6 Pieces)</th>\n",
              "      <td>Tk 245</td>\n",
              "    </tr>\n",
              "    <tr>\n",
              "      <th>VGTEC Bakelite Ceiling Rose (Honey Comb Series) - BCRHC 12P (12 Pieces)</th>\n",
              "      <td>Tk 475\\nTk 460</td>\n",
              "    </tr>\n",
              "  </tbody>\n",
              "</table>\n",
              "</div>"
            ],
            "text/plain": [
              "                                                                 0\n",
              "Base Adaptor Round (Patch)                                   Tk 15\n",
              "VGTEC Bakelite Batten Holder (Cute Series-03) -...          Tk 375\n",
              "VGTEC Bakelite Batten Holder (Cute Series-03) -...          Tk 190\n",
              "VGTEC Bakelite Batten Holder (Cosmos Series) - ...          Tk 320\n",
              "VGTEC Bakelite Batten Holder (Cosmos Series) - ...          Tk 160\n",
              "VGTEC Bakelite Batten Holder (Lily Series) - BB...          Tk 375\n",
              "VGTEC Bakelite Batten Holder (Lily Series) - BB...          Tk 175\n",
              "VGTEC Bakelite Batten Holder (Lotus Series) - B...  Tk 480\\nTk 475\n",
              "VGTEC Bakelite Batten Holder (Lotus Series) - B...          Tk 240\n",
              "VGTEC Bakelite Batten Holder (Honey Comb Series...  Tk 475\\nTk 460\n",
              "VGTEC Bakelite Batten Holder (Honey Comb Series...  Tk 240\\nTk 230\n",
              "Bulb Holder Converter Pach to Pin HC 27-22 6P               Tk 150\n",
              "Bulb Holder Converter Pach to Pin HC 27-22                   Tk 25\n",
              "Bulb Holder Converter Pin to Pach HC 22-27 6P (...          Tk 180\n",
              "Bulb Holder Converter Pin to Pach HC 22-27                   Tk 30\n",
              "VGTEC Bakelite Pendant Holder (Safety Series) -...          Tk 180\n",
              "VGTEC Bakelite Pendant Holder (Safety Series) -...           Tk 30\n",
              "VGTEC Bakelite Pendant Holder (Mike Series) - B...          Tk 180\n",
              "VGTEC Bakelite Pendant Holder (Mike Series) - B...           Tk 30\n",
              "VGTEC Bakelite Ceiling Rose (Cute Series) - BCR...          Tk 215\n",
              "VGTEC Bakelite Ceiling Rose (Cute Series) - BCR...          Tk 110\n",
              "VGTEC Bakelite Ceiling Rose (Prime Series) - BC...          Tk 375\n",
              "VGTEC Bakelite Ceiling Rose (Prime Series) - BC...          Tk 190\n",
              "VGTEC Bakelite Ceiling Rose (Cosmos Series) - B...          Tk 320\n",
              "VGTEC Bakelite Ceiling Rose (Cosmos Series) - B...          Tk 160\n",
              "VGTEC Bakelite Ceiling Rose (Lily Series) - BCR...          Tk 390\n",
              "VGTEC Bakelite Ceiling Rose (Lily Series) - BCR...          Tk 195\n",
              "VGTEC Bakelite Ceiling Rose (Lotus Series) - BC...          Tk 490\n",
              "VGTEC Bakelite Ceiling Rose (Lotus Series) - BC...          Tk 245\n",
              "VGTEC Bakelite Ceiling Rose (Honey Comb Series)...  Tk 475\\nTk 460"
            ]
          },
          "metadata": {},
          "execution_count": 250
        }
      ]
    },
    {
      "cell_type": "code",
      "metadata": {
        "id": "QMiZNL3bzE1r"
      },
      "source": [
        "df.to_csv('/content/drive/MyDrive/OmdenaBD/Data/priyo-94.csv')"
      ],
      "execution_count": null,
      "outputs": []
    },
    {
      "cell_type": "code",
      "metadata": {
        "id": "QnNPsWp4271M"
      },
      "source": [
        ""
      ],
      "execution_count": null,
      "outputs": []
    }
  ]
}